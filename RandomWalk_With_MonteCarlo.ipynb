{
  "nbformat": 4,
  "nbformat_minor": 0,
  "metadata": {
    "colab": {
      "name": "RandomWalk_With_MonteCarlo.ipynb",
      "provenance": [],
      "collapsed_sections": [],
      "authorship_tag": "ABX9TyPqVLvE9127VtfmwFTVRCvj",
      "include_colab_link": true
    },
    "kernelspec": {
      "name": "python3",
      "display_name": "Python 3"
    },
    "language_info": {
      "name": "python"
    }
  },
  "cells": [
    {
      "cell_type": "markdown",
      "metadata": {
        "id": "view-in-github",
        "colab_type": "text"
      },
      "source": [
        "<a href=\"https://colab.research.google.com/github/AgentZero2483/Random_Walk_MonteCarlo/blob/main/RandomWalk_With_MonteCarlo.ipynb\" target=\"_parent\"><img src=\"https://colab.research.google.com/assets/colab-badge.svg\" alt=\"Open In Colab\"/></a>"
      ]
    },
    {
      "cell_type": "markdown",
      "metadata": {
        "id": "Vc5ez46GlQVh"
      },
      "source": [
        "In this project I use the Monte Carlo simulation to solve the random walk problem. \n",
        "\n",
        "Random Walk Problem: suppose you live in a grid and you take a random walk selecting a random direction at each grid point (back tracking permitted). What is the longest random walk you can take so that on average you end up 4 blocks or fewer from your starting point?  "
      ]
    },
    {
      "cell_type": "code",
      "metadata": {
        "id": "GIKh3djl4xIL"
      },
      "source": [
        "#Import dependencies\n",
        "import random"
      ],
      "execution_count": null,
      "outputs": []
    },
    {
      "cell_type": "code",
      "metadata": {
        "id": "_1zUZ4Gj48_O"
      },
      "source": [
        "def random_walk(n):\n",
        "  \"\"\"Return coordinates after 'n' blocks random walk\"\"\"\n",
        "  x = 0 \n",
        "  y = 0\n",
        "  for i in range(n):\n",
        "    step = random.choice(['N', 'S', 'E', 'W'])\n",
        "    if step == 'N':\n",
        "      y = y +1\n",
        "    elif step == 'S':\n",
        "      y = y - 1\n",
        "    elif step == 'E':\n",
        "      x = x + 1\n",
        "    else: \n",
        "      x = x - 1\n",
        "  return(x, y) #return function as tuple\n"
      ],
      "execution_count": null,
      "outputs": []
    },
    {
      "cell_type": "code",
      "metadata": {
        "colab": {
          "base_uri": "https://localhost:8080/"
        },
        "id": "K3kHiaR96Ecn",
        "outputId": "0cbbc354-c718-4092-d4dc-d0b93216e4bc"
      },
      "source": [
        "#Run random wal 25 random times\n",
        "for i in range (25):\n",
        "  walk = random_walk(10)\n",
        "  print(walk, \"Distance from home =\",\n",
        "        abs(walk[0]) + abs(walk[1]))\n",
        "  "
      ],
      "execution_count": null,
      "outputs": [
        {
          "output_type": "stream",
          "text": [
            "(0, -2) Distance from home = 2\n",
            "(-2, 2) Distance from home = 4\n",
            "(1, -3) Distance from home = 4\n",
            "(0, 0) Distance from home = 0\n",
            "(1, 1) Distance from home = 2\n",
            "(5, 1) Distance from home = 6\n",
            "(2, -6) Distance from home = 8\n",
            "(1, 3) Distance from home = 4\n",
            "(-5, -1) Distance from home = 6\n",
            "(-2, 2) Distance from home = 4\n",
            "(4, 2) Distance from home = 6\n",
            "(4, -4) Distance from home = 8\n",
            "(2, -2) Distance from home = 4\n",
            "(5, 1) Distance from home = 6\n",
            "(1, -3) Distance from home = 4\n",
            "(-3, -1) Distance from home = 4\n",
            "(4, 4) Distance from home = 8\n",
            "(1, -5) Distance from home = 6\n",
            "(1, 1) Distance from home = 2\n",
            "(2, -2) Distance from home = 4\n",
            "(0, 0) Distance from home = 0\n",
            "(0, 4) Distance from home = 4\n",
            "(3, 1) Distance from home = 4\n",
            "(2, 0) Distance from home = 2\n",
            "(-3, 1) Distance from home = 4\n"
          ],
          "name": "stdout"
        }
      ]
    },
    {
      "cell_type": "code",
      "metadata": {
        "id": "_euxzRYZ6KNW"
      },
      "source": [
        "#second version of random walk that is more compact\n",
        "def random_walk2(n):\n",
        "  \"\"\"Return coordinates after 'n' blocks random walk\"\"\"\n",
        "  x, y = 0, 0\n",
        "  for i in range(n):\n",
        "    (dx, dy) = random.choice([(0, 1), (0, -1), (1, 0), (-1, 0)])\n",
        "    x += dx\n",
        "    y += dy\n",
        "  \n",
        "  return (x, y)\n"
      ],
      "execution_count": null,
      "outputs": []
    },
    {
      "cell_type": "code",
      "metadata": {
        "colab": {
          "base_uri": "https://localhost:8080/"
        },
        "id": "ZnvBkwvI9xXE",
        "outputId": "66c8b42d-4aca-436e-8267-2e6489d05fa4"
      },
      "source": [
        "#Run random wal 25 random times\n",
        "for i in range (25):\n",
        "  walk = random_walk2(10)\n",
        "  print(walk, \"Distance from home =\",\n",
        "        abs(walk[0]) + abs(walk[1]))\n",
        "  "
      ],
      "execution_count": null,
      "outputs": [
        {
          "output_type": "stream",
          "text": [
            "(2, 2) Distance from home = 4\n",
            "(0, 2) Distance from home = 2\n",
            "(-3, 1) Distance from home = 4\n",
            "(3, -1) Distance from home = 4\n",
            "(-5, 1) Distance from home = 6\n",
            "(0, 4) Distance from home = 4\n",
            "(-3, -3) Distance from home = 6\n",
            "(-4, 0) Distance from home = 4\n",
            "(2, 0) Distance from home = 2\n",
            "(-1, -1) Distance from home = 2\n",
            "(-2, 0) Distance from home = 2\n",
            "(-2, 4) Distance from home = 6\n",
            "(1, 1) Distance from home = 2\n",
            "(-1, -1) Distance from home = 2\n",
            "(4, 2) Distance from home = 6\n",
            "(0, -2) Distance from home = 2\n",
            "(-1, 1) Distance from home = 2\n",
            "(-3, -1) Distance from home = 4\n",
            "(-1, -1) Distance from home = 2\n",
            "(-3, 1) Distance from home = 4\n",
            "(4, -2) Distance from home = 6\n",
            "(-2, -2) Distance from home = 4\n",
            "(2, -8) Distance from home = 10\n",
            "(0, 2) Distance from home = 2\n",
            "(-1, 3) Distance from home = 4\n"
          ],
          "name": "stdout"
        }
      ]
    },
    {
      "cell_type": "code",
      "metadata": {
        "colab": {
          "base_uri": "https://localhost:8080/"
        },
        "id": "auznN-R5-Zxb",
        "outputId": "e1e60575-801e-412f-c8b9-6ba1b7a4afbb"
      },
      "source": [
        "#What's the longest random walk you can take so that on avg you will end of 4 blocks or fewer from home?\n",
        "\n",
        "#Monte Carlo Method:\n",
        "number_walks = 100000\n",
        "\n",
        "for walk_length in range(1, 31):\n",
        "  no_transport = 0 #keeps track of walks 4 or fewer blocks from home\n",
        "  for i in range(number_walks):\n",
        "    (x, y) = random_walk2(walk_length)\n",
        "    distance = abs(x) + abs(y)\n",
        "    if distance <= 4:\n",
        "      no_transport += 1 \n",
        "  no_transport_percent = float(no_transport) / number_walks\n",
        "  print('Walk size = ', walk_length, '% of no transport = ', 100*no_transport_percent)"
      ],
      "execution_count": null,
      "outputs": [
        {
          "output_type": "stream",
          "text": [
            "Walk size =  1 % of no transport =  100.0\n",
            "Walk size =  2 % of no transport =  100.0\n",
            "Walk size =  3 % of no transport =  100.0\n",
            "Walk size =  4 % of no transport =  100.0\n",
            "Walk size =  5 % of no transport =  87.812\n",
            "Walk size =  6 % of no transport =  93.863\n",
            "Walk size =  7 % of no transport =  76.241\n",
            "Walk size =  8 % of no transport =  86.24199999999999\n",
            "Walk size =  9 % of no transport =  67.254\n",
            "Walk size =  10 % of no transport =  79.29899999999999\n",
            "Walk size =  11 % of no transport =  59.696000000000005\n",
            "Walk size =  12 % of no transport =  72.829\n",
            "Walk size =  13 % of no transport =  53.886\n",
            "Walk size =  14 % of no transport =  67.42\n",
            "Walk size =  15 % of no transport =  48.734\n",
            "Walk size =  16 % of no transport =  62.146\n",
            "Walk size =  17 % of no transport =  44.336\n",
            "Walk size =  18 % of no transport =  57.912\n",
            "Walk size =  19 % of no transport =  41.217\n",
            "Walk size =  20 % of no transport =  54.222\n",
            "Walk size =  21 % of no transport =  38.005\n",
            "Walk size =  22 % of no transport =  50.722\n",
            "Walk size =  23 % of no transport =  35.403\n",
            "Walk size =  24 % of no transport =  47.78\n",
            "Walk size =  25 % of no transport =  32.726\n",
            "Walk size =  26 % of no transport =  45.169\n",
            "Walk size =  27 % of no transport =  31.139\n",
            "Walk size =  28 % of no transport =  42.758\n",
            "Walk size =  29 % of no transport =  29.421000000000003\n",
            "Walk size =  30 % of no transport =  40.785\n"
          ],
          "name": "stdout"
        }
      ]
    }
  ]
}